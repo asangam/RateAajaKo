{
 "metadata": {
  "language_info": {
   "codemirror_mode": {
    "name": "ipython",
    "version": 3
   },
   "file_extension": ".py",
   "mimetype": "text/x-python",
   "name": "python",
   "nbconvert_exporter": "python",
   "pygments_lexer": "ipython3",
   "version": "3.6.8-final"
  },
  "orig_nbformat": 2,
  "kernelspec": {
   "name": "pythonjvsc74a57bd005ece30799c2dcdac4c13b3af20453da19de8df0d9a1de52cff7e0b6e1e82bdd",
   "display_name": "Python 3.6.8 64-bit"
  },
  "metadata": {
   "interpreter": {
    "hash": "05ece30799c2dcdac4c13b3af20453da19de8df0d9a1de52cff7e0b6e1e82bdd"
   }
  }
 },
 "nbformat": 4,
 "nbformat_minor": 2,
 "cells": [
  {
   "cell_type": "code",
   "execution_count": 1,
   "metadata": {},
   "outputs": [
    {
     "output_type": "stream",
     "name": "stdout",
     "text": [
      "Today's Rate:  94.00 Tue 20, Apr 2021 ,09:59:10\n"
     ]
    }
   ],
   "source": [
    "# THIS IS A PLAYGROUND FOR MY PY FILE\n",
    "# I LIKE TO PLAY FIRST IN THE JUPYTER NOTEBOOK HAHA\n",
    "\n",
    "import requests\n",
    "import bs4\n",
    "\n",
    "siteNK='https://www.nepalikaam.com'\n",
    "siteNR='https://www.namasteremittance.com.au'\n",
    "\n",
    "\n",
    "resNK = requests.get(siteNK)\n",
    "resNR = requests.get(siteNR)\n",
    "\n",
    "\n",
    "#type(res)\n",
    "\n",
    "resNK.text\n",
    "resNR.text\n",
    "\n",
    "soupNK = bs4.BeautifulSoup(resNK.text,'html.parser')\n",
    "soupNR = bs4.BeautifulSoup(resNR.text,'html.parser')\n",
    "\n",
    "\n",
    "#type(soup)\n",
    "\n",
    "dataNK = soupNK.select('h5')\n",
    "dataNK = soupNR.select('')\n",
    "\n",
    "# data = displays all the data within the h5\n",
    "\n",
    "unformatted = data[0].getText().lstrip().rstrip()\n",
    "\n",
    "spaceData = unformatted.replace(\"\\r\\n\",\"\").replace(\"as\",\"\").replace(\"of\",\"\").replace(\"(\",\"\").replace(\")\",\"\")\n",
    "\n",
    "finalRate = spaceData[0:20]\n",
    "\n",
    "day = spaceData[142:168]\n",
    "\n",
    "print(finalRate+\" \"+day)\n",
    "\n"
   ]
  },
  {
   "cell_type": "code",
   "execution_count": 17,
   "metadata": {},
   "outputs": [
    {
     "output_type": "stream",
     "name": "stdout",
     "text": [
      "Today's Rate:  94.00 Tue 20, Apr 2021 ,09:59:10 -> $10 Charge\n"
     ]
    }
   ],
   "source": [
    "import requests\n",
    "import bs4\n",
    "\n",
    "res = requests.get('https://www.nepalikaam.com')\n",
    "#type(res)\n",
    "\n",
    "res.text\n",
    "\n",
    "soup = bs4.BeautifulSoup(res.text,'html.parser')\n",
    "#type(soup)\n",
    "\n",
    "data = soup.select('h5')\n",
    "\n",
    "# data = displays all the data within the h5\n",
    "\n",
    "unformatted = data[0].getText().lstrip().rstrip()\n",
    "\n",
    "spaceData = unformatted.replace(\"\\r\\n\",\"\").replace(\"as\",\"\").replace(\"of\",\"\").replace(\"(\",\"\").replace(\")\",\"\")\n",
    "finalRate = spaceData[0:20]\n",
    "day = spaceData[142:168]\n",
    "\n",
    "print(finalRate+\" \"+day+\" -> $10 Charge\")"
   ]
  },
  {
   "cell_type": "code",
   "execution_count": 6,
   "metadata": {},
   "outputs": [
    {
     "output_type": "execute_result",
     "data": {
      "text/plain": [
       "iBox-root jss284\"><div class=\"MuiBox-root jss285\"><p class=\"jss279\">Send on the go and track your transfer with our app</p><div><div class=\"jss280\"><a class=\"MuiTypography-root MuiLink-root jss11 MuiLink-underlineNone jss282 MuiTypography-colorPrimary jss12\" target=\"_blank\" rel=\"noopener noreferrer\" href=\"https://wrm.app.link/rL8O3aMNo1\"><img loading=\"lazy\" data-src=\"/public-assets/static/0848d0561e1e43ce83855ad198268789/google-play.svg\" src=\"/public-assets/static/0848d0561e1e43ce83855ad198268789/google-play.svg\" alt=\"google play button\" class=\"lazyload\" title=\"Google Play\" width=\"171\" height=\"49\"></a><a class=\"MuiTypography-root MuiLink-root jss11 MuiLink-underlineNone jss281 MuiTypography-colorPrimary jss12\" target=\"_blank\" rel=\"noopener noreferrer\" href=\"https://wrm.app.link/jTTqd3ANo1\"><img loading=\"lazy\" data-src=\"/public-assets/static/4cf88fbc00bd224b6cf9f447f8bbb6d1/app-store-btn.svg\" src=\"/public-assets/static/4cf88fbc00bd224b6cf9f447f8bbb6d1/app-store-btn.svg\" alt=\"app store button\" class=\"lazyload\" title=\"App Store\" width=\"171\" height=\"49\"></a></div></div></div><div class=\"MuiBox-root jss292\"><div class=\"MuiBox-root jss293 jss287\"><div class=\"jss288 gatsby-image-wrapper\" style=\"position:relative;overflow:hidden\"><div aria-hidden=\"true\" style=\"width:100%;padding-bottom:209.53125%\"></div><noscript><picture><source type=\"image/webp\" srcset=\"/public-assets/static/2af86dbcff63f1122bb21ea1ccc88e6d/2420f/Android_frame.webp 640w, /public-assets/static/2af86dbcff63f1122bb21ea1ccc88e6d/a417d/Android_frame.webp 666w\" sizes=\"(max-width: 666px) 100vw, 666px\"><source srcset=\"/public-assets/static/2af86dbcff63f1122bb21ea1ccc88e6d/cb016/Android_frame.png 640w, /public-assets/static/2af86dbcff63f1122bb21ea1ccc88e6d/30601/Android_frame.png 666w\" sizes=\"(max-width: 666px) 100vw, 666px\"><img loading=\"lazy\" sizes=\"(max-width: 666px) 100vw, 666px\" srcset=\"/public-assets/static/2af86dbcff63f1122bb21ea1ccc88e6d/cb016/Android_frame.png 640w, /public-assets/static/2af86dbcff63f1122bb21ea1ccc88e6d/30601/Android_frame.png 666w\" src=\"/public-assets/static/2af86dbcff63f1122bb21ea1ccc88e6d/30601/Android_frame.png\" alt=\"Android phone frame\" title=\"Android frame\" style=\"position:absolute;top:0;left:0;opacity:1;width:100%;height:100%;object-fit:cover;object-position:center\"></picture></noscript></div><div class=\"jss290 gatsby-image-wrapper\" style=\"position:absolute;overflow:hidden\"><div aria-hidden=\"true\" style=\"width:100%;padding-bottom:199.16666666666669%\"></div><noscript><picture><source type=\"image/webp\" srcset=\"/public-assets/static/e708bf22012a9b7ea98c51d63d7fc0d4/35f70/Image_2__1_.webp 360w\" sizes=\"(max-width: 360px) 100vw, 360px\"><source srcset=\"/public-assets/static/e708bf22012a9b7ea98c51d63d7fc0d4/f9da5/Image_2__1_.png 360w\" sizes=\"(max-width: 360px) 100vw, 360px\"><img loading=\"lazy\" sizes=\"(max-width: 360px) 100vw, 360px\" srcset=\"/public-assets/static/e708bf22012a9b7ea98c51d63d7fc0d4/f9da5/Image_2__1_.png 360w\" src=\"/public-assets/static/e708bf22012a9b7ea98c51d63d7fc0d4/f9da5/Image_2__1_.png\" alt=\"An image of an Android mobile screen showing the WorldRemit transaction page\" title=\"Android 2\" style=\"position:absolute;top:0;left:0;opacity:1;width:100%;height:100%;object-fit:cover;object-position:center\"></picture></noscript></div></div><div class=\"MuiBox-root jss294 jss286\"><div class=\"jss289 gatsby-image-wrapper\" style=\"position:relative;overflow:hidden\"><div aria-hidden=\"true\" style=\"width:100%;padding-bottom:203.90625%\"></div><noscript><picture><source type=\"image/webp\" srcset=\"/public-assets/static/91256f548d60755cfa72bb55e8237148/2420f/iPhone_frame.webp 640w, /public-assets/static/91256f548d60755cfa72bb55e8237148/d08f3/iPhone_frame.webp 687w\" sizes=\"(max-width: 687px) 100vw, 687px\"><source srcset=\"/public-assets/static/91256f548d60755cfa72bb55e8237148/cb016/iPhone_frame.png 640w, /public-assets/static/91256f548d60755cfa72bb55e8237148/5f6ec/iPhone_frame.png 687w\" sizes=\"(max-width: 687px) 100vw, 687px\"><img loading=\"lazy\" sizes=\"(max-width: 687px) 100vw, 687px\" srcset=\"/public-assets/static/91256f548d60755cfa72bb55e8237148/cb016/iPhone_frame.png 640w, /public-assets/static/91256f548d60755cfa72bb55e8237148/5f6ec/iPhone_frame.png 687w\" src=\"/public-assets/static/91256f548d60755cfa72bb55e8237148/5f6ec/iPhone_frame.png\" alt=\"iPhone frame\" title=\"iPhone frame\" style=\"position:absolute;top:0;left:0;opacity:1;width:100%;height:100%;object-fit:cover;object-position:center\"></picture></noscript></div><div class=\"jss291 gatsby-image-wrapper\" style=\"position:absolute;overflow:hidden\"><div aria-hidden=\"true\" style=\"width:100%;padding-bottom:216.53333333333333%\"></div><noscript><picture><source type=\"image/webp\" srcset=\"/public-assets/static/4218aa8906f91a767d9a0b1a4d2791ba/7535b/Image_1.webp 375w\" sizes=\"(max-width: 375px) 100vw, 375px\"><source srcset=\"/public-assets/static/4218aa8906f91a767d9a0b1a4d2791ba/74449/Image_1.png 375w\" sizes=\"(max-width: 375px) 100vw, 375px\"><img loading=\"lazy\" sizes=\"(max-width: 375px) 100vw, 375px\" srcset=\"/public-assets/static/4218aa8906f91a767d9a0b1a4d2791ba/74449/Image_1.png 375w\" src=\"/public-assets/static/4218aa8906f91a767d9a0b1a4d2791ba/74449/Image_1.png\" alt=\"\" title=\"iphone 2\" style=\"position:absolute;top:0;left:0;opacity:1;width:100%;height:100%;object-fit:cover;object-position:center\"></picture></noscript></div></div></div></div></div></section></main><footer class=\"jss295\"><div class=\"MuiBox-root jss301\"><div class=\"jss148\"><div class=\"MuiBox-root jss302\"><div class=\"jss303\"><span class=\"jss304\">Send money online</span><ul class=\"jss305\"><li><a class=\"MuiTypography-root MuiLink-root jss11 MuiLink-underlineNone jss307 MuiTypography-body1 MuiTypography-colorTextSecondary jss15\" target=\"_self\" href=\"/en/nigeria\">Send money to Nigeria</a></li><li><a class=\"MuiTypography-root MuiLink-root jss11 MuiLink-underlineNone jss307 MuiTypography-body1 MuiTypography-colorTextSecondary jss15\" target=\"_self\" href=\"/en/philippines\">Send money to the Philippines</a></li><li><a class=\"MuiTypography-root MuiLink-root jss11 MuiLink-underlineNone jss307 MuiTypography-body1 MuiTypography-colorTextSecondary jss15\" target=\"_self\" href=\"/en/india\">Send money to India</a></li><li><a class=\"MuiTypography-root MuiLink-root jss11 MuiLink-underlineNone jss307 MuiTypography-body1 MuiTypography-colorTextSecondary jss15\" target=\"_self\" href=\"/en/zimbabwe\">Send money to Zimbabwe</a></li><li><a class=\"MuiTypography-root MuiLink-root jss11 MuiLink-underlineNone jss307 MuiTypography-body1 MuiTypography-colorTextSecondary jss15\" target=\"_self\" href=\"/en/ghana\">Send money to Ghana</a></li><li><a class=\"MuiTypography-root MuiLink-root jss11 MuiLink-underlineNone jss307 MuiTypography-body1 MuiTypography-colorTextSecondary jss15\" target=\"_self\" href=\"/en/colombia\">Send money to Colombia</a></li><li><a class=\"MuiTypography-root MuiLink-root jss11 MuiLink-underlineNone jss307 MuiTypography-body1 MuiTypography-colorTextSecondary jss15\" target=\"_self\" href=\"/en/morocco\">Send money to Morocco</a></li><li><a class=\"MuiTypography-root MuiLink-root jss11 MuiLink-underlineNone jss307 MuiTypography-body1 MuiTypography-colorTextSecondary jss15\" target=\"_self\" href=\"/en/ethiopia\">Send money to Ethiopia</a></li></ul></div><div class=\"jss303\"><span class=\"jss304\">Who we are</span><ul class=\"jss305\"><li><a class=\"MuiTypography-root MuiLink-root jss11 MuiLink-underlineNone jss307 MuiTypography-body1 MuiTypography-colorTextSecondary jss15\" target=\"_self\" href=\"/en/what-we-do\">What we do</a></li><li><a class=\"MuiTypography-root MuiLink-root jss11 MuiLink-underlineNone jss307 MuiTypography-body1 MuiTypography-colorTextSecondary jss15\" target=\"_self\" href=\"/en/how-it-works\">How it works</a></li><li><a class=\"MuiTypography-root MuiLink-root jss11 MuiLink-underlineNone jss307 MuiTypography-body1 MuiTypography-colorTextSecondary jss15\" target=\"_self\" href=\"/en/what-we-do/benefits\">Benefits</a></li><li><a class=\"MuiTypography-root MuiLink-root jss11 MuiLink-underlineNone jss307 MuiTypography-body1 MuiTypography-colorTextSecondary jss15\" target=\"_self\" href=\"/en/mobile-apps\">Mobile apps</a></li><li><a class=\"MuiTypography-root MuiLink-root jss11 MuiLink-underlineNone jss307 MuiTypography-body1 MuiTypography-colorTextSecondary jss15\" target=\"_self\" href=\"/en/about-us\">About us</a></li><li><a class=\"MuiTypography-root MuiLink-root jss11 MuiLink-underlineNone jss307 MuiTypography-body1 MuiTypography-colorTextSecondary jss15\" target=\"_self\" href=\"/en/about-us/corporate/board-of-directors\">Board of directors</a></li><li><a class=\"MuiTypography-root MuiLink-root jss11 MuiLink-underlineNone jss307 MuiTypography-body1 MuiTypography-colorTextSecondary jss15\" target=\"_self\" href=\"/en/news\">News</a></li><li><a class=\"MuiTypography-root MuiLink-root jss11 MuiLink-underlineNone jss307 MuiTypography-body1 MuiTypography-colorTextSecondary jss15\" target=\"_self\" href=\"/en/stories\">Blog</a></li></ul></div><div class=\"jss303\"><span class=\"jss304\">We can help</span><ul class=\"jss305\"><li><a class=\"MuiTypography-root MuiLink-root jss11 MuiLink-underlineNone jss307 jss308 MuiTypography-body1 MuiTypography-colorInherit\" target=\"_self\" href=\"/en/live-updates\">Live Updates</a></li><li><a class=\"MuiTypography-root MuiLink-root jss11 MuiLink-underlineNone jss307 MuiTypography-body1 MuiTypography-colorTextSecondary jss15\" target=\"_self\" href=\"/en/faq\">FAQs</a></li><li><a class=\"MuiTypography-root MuiLink-root jss11 MuiLink-underlineNone jss307 MuiTypography-body1 MuiTypography-colorTextSecondary jss15\" target=\"_self\" href=\"/en/faq/wheres-my-money\">Where&#x27;s my money?</a></li><li><a class=\"MuiTypography-root MuiLink-root jss11 MuiLink-underlineNone jss307 MuiTypography-body1 MuiTypography-colorTextSecondary jss15\" target=\"_self\" href=\"/en/faq/getting-started\">Getting started</a></li><li><a class=\"MuiTypography-root MuiLink-root jss11 MuiLink-underlineNone jss307 MuiTypography-body1 MuiTypography-colorTextSecondary jss15\" target=\"_self\" href=\"/en/faq/my-account\">Your account</a></li><li><a class=\"MuiTypography-root MuiLink-root jss11 MuiLink-underlineNone jss307 MuiTypography-body1 MuiTypography-colorTextSecondary jss15\" target=\"_self\" href=\"/en/faq/cash-pickup\">Cash pickup</a></li><li><a class=\"MuiTypography-root MuiLink-root jss11 MuiLink-underlineNone jss307 MuiTypography-body1 MuiTypography-colorTextSecondary jss15\" target=\"_self\" href=\"/en/faq/bank-transfers\">Bank transfer</a></li><li><a class=\"MuiTypography-root MuiLink-root jss11 MuiLink-underlineNone jss307 MuiTypography-body1 MuiTypography-colorTextSecondary jss15\" target=\"_self\" href=\"/en/faq/mobile-money\">Mobile money</a></li><li><a class=\"MuiTypography-root MuiLink-root jss11 MuiLink-underlineNone jss307 MuiTypography-body1 MuiTypography-colorTextSecondary jss15\" target=\"_self\" href=\"/en/faq/airtime-top-up\">Airtime top-up</a></li><li><a class=\"MuiTypography-root MuiLink-root jss11 MuiLink-underlineNone jss307 MuiTypography-body1 MuiTypography-colorTextSecondary jss15\" target=\"_self\" href=\"/en/contact-us\">Contact us</a></li></ul></div><div class=\"jss303\"><span class=\"jss304\">Work with us</span><ul class=\"jss305\"><li><a class=\"MuiTypography-root MuiLink-root jss11 MuiLink-underlineNone jss307 MuiTypography-body1 MuiTypography-colorTextSecondary jss15\" target=\"_self\" href=\"/en/careers\">Careers - We&#x27;re hiring!</a></li><li><a class=\"MuiTypography-root MuiLink-root jss11 MuiLink-underlineNone jss307 MuiTypography-body1 MuiTypography-colorTextSecondary jss15\" target=\"_self\" href=\"/en/partners-and-affiliates\">Partners &amp; affiliates</a></li></ul></div></div><div class=\"MuiBox-root jss310 jss298\"><ul class=\"jss299\"><li><a class=\"MuiTypography-root MuiLink-root jss11 MuiLink-underlineNone MuiTypography-colorTextSecondary jss15\" target=\"_self\" rel=\"nofollow\" href=\"/en/about-us/terms-and-conditions\">Terms and conditions</a></li><li><a class=\"MuiTypography-root MuiLink-root jss11 MuiLink-underlineNone MuiTypography-colorTextSecondary jss15\" target=\"_self\" rel=\"nofollow\" href=\"/en/about-us/privacy-policy\">Privacy policy</a></li><li><a class=\"MuiTypography-root MuiLink-root jss11 MuiLink-underlineNone MuiTypography-colorTextSecondary jss15\" target=\"_self\" rel=\"nofollow\" href=\"/en/about-us/cookies-policy\">Cookies policy</a></li><li><a class=\"MuiTypography-root MuiLink-root jss11 MuiLink-underlineNone MuiTypography-colorTextSecondary jss15\" target=\"_self\" rel=\"nofollow\" href=\"/en/about-us/modern-slavery-statement\">Modern Slavery Statement</a></li><li><a class=\"MuiTypography-root MuiLink-root jss11 MuiLink-underlineNone MuiTypography-colorTextSecondary jss15\" target=\"_self\" href=\"/en/about-us/financial-statement\">Financial Statement</a></li><li><a class=\"MuiTypography-root MuiLink-root jss11 MuiLink-underlineNone MuiTypography-colorTextSecondary jss15\" target=\"_self\" href=\"/en/sitemap\">Sitemap</a></li></ul><ul class=\"MuiList-root jss314 MuiList-dense\"><li class=\"MuiListItem-root MuiListItem-dense MuiListItem-gutters jss315\"><a class=\"MuiTypography-root MuiLink-root jss11 MuiLink-underlineNone jss316 MuiTypography-colorPrimary jss12\" target=\"_blank\" rel=\"nofollow noopener noreferrer\" href=\"https://www.facebook.com/WorldRemit/\"><img loading=\"lazy\" data-src=\"/public-assets/static/5613a00063dc873bd6441b458001854b/Facebook_-_Grey.svg\" src=\"/public-assets/static/5613a00063dc873bd6441b458001854b/Facebook_-_Grey.svg\" alt=\"Facebook icon\" class=\"lazyload\" title=\"Facebook\" width=\"20\" height=\"20\"></a></li><li class=\"MuiListItem-root MuiListItem-dense MuiListItem-gutters jss315\"><a class=\"MuiTypography-root MuiLink-root jss11 MuiLink-underlineNone jss316 MuiTypography-colorPrimary jss12\" target=\"_blank\" rel=\"nofollow noopener noreferrer\" href=\"https://twitter.com/worldremit\"><img loading=\"lazy\" data-src=\"/public-assets/static/c428695d53cf8897266827fe6ccc4d8c/Twitter_-_Grey.svg\" src=\"/public-assets/static/c428695d53cf8897266827fe6ccc4d8c/Twitter_-_Grey.svg\" alt=\"Twitter icon\" class=\"lazyload\" title=\"Twitter\" width=\"20\" height=\"20\"></a></li><li class=\"MuiListItem-root MuiListItem-dense MuiListItem-gutters jss315\"><a class=\"MuiTypography-root MuiLink-root jss11 MuiLink-underlineNone jss316 MuiTypography-colorPrimary jss12\" target=\"_blank\" rel=\"nofollow noopener noreferrer\" href=\"https://www.instagram.com/worldremit/\"><img loading=\"lazy\" data-src=\"/public-assets/static/9a647805bad1063f7eae829ab607f372/Instagram_-_Grey.svg\" src=\"/public-assets/static/9a647805bad1063f7eae829ab607f372/Instagram_-_Grey.svg\" alt=\"Instagram icon\" class=\"lazyload\" title=\"Instagram\" width=\"20\" height=\"20\"></a></li><li class=\"MuiListItem-root MuiListItem-dense MuiListItem-gutters jss315\"><a class=\"MuiTypography-root MuiLink-root jss11 MuiLink-underlineNone jss316 MuiTypography-colorPrimary jss12\" target=\"_blank\" rel=\"nofollow noopener noreferrer\" href=\"https://www.linkedin.com/company/worldremit/\"><img loading=\"lazy\" data-src=\"/public-assets/static/959b73fd39335a587eee11c248da5b19/LinkedIn_-_Grey.svg\" src=\"/public-assets/static/959b73fd39335a587eee11c248da5b19/LinkedIn_-_Grey.svg\" alt=\"LinkedIn icon\" class=\"lazyload\" title=\"LinkedIn\" width=\"20\" height=\"20\"></a></li><li class=\"MuiListItem-root MuiListItem-dense MuiListItem-gutters jss315\"><a class=\"MuiTypography-root MuiLink-root jss11 MuiLink-underlineNone jss316 MuiTypography-colorPrimary jss12\" target=\"_blank\" rel=\"nofollow noopener noreferrer\" href=\"https://www.youtube.com/user/WorldRemit\"><img loading=\"lazy\" data-src=\"/public-assets/static/11972b2e1c5d187e019bccab499681cb/YouTube_-_Grey.svg\" src=\"/public-assets/static/11972b2e1c5d187e019bccab499681cb/YouTube_-_Grey.svg\" alt=\"YouTube icon\" class=\"lazyload\" title=\"YouTube\" width=\"20\" height=\"20\"></a></li></ul></div></div></div><div class=\"jss296\">62 Buckingham Gate, London, SW1E 6AJ, United Kingdom. Company registration number: 07110878<br>WorldRemit Ltd is Authorised and Regulated by the Financial Conduct Authority (FCA) under the Payment Service Regulations 2017 and Electronic Money Regulations 2011. Registration number: 900891.<br></div></footer></div><div id=\"gatsby-announcer\" style=\"position:absolute;top:0;width:1px;height:1px;padding:0;overflow:hidden;clip:rect(0,0,0,0);white-space:nowrap;border:0\" aria-live=\"assertive\" aria-atomic=\"true\"></div></div><script id=\"gatsby-script-loader\">window.pagePath=\"/en/nepal\"</script><script id=\"gatsby-chunk-mapping\">window.___chunkMapping={polyfill:[\"/polyfill-950e79a7f766021583b2.js\"],app:[\"/app-c55821e2b64cf521da16.js\"],\"async-console\":[\"/async-console-9a3d1e6eff858526995c.js\"],\"component---src-templates-calculator-page-calculator-page-template-tsx\":[\"/component---src-templates-calculator-page-calculator-page-template-tsx-0abfe5bcbc952144d770.js\"],\"component---src-templates-career-page-career-page-template-tsx\":[\"/component---src-templates-career-page-career-page-template-tsx-b0db12d9437310215326.js\"],\"component---src-templates-correspondents-page-correspondents-page-template-tsx\":[\"/component---src-templates-correspondents-page-correspondents-page-template-tsx-9239f9113f3950741c82.js\"],\"component---src-templates-country-page-country-page-template-tsx\":[\"/component---src-templates-country-page-country-page-template-tsx-85bab22498c0ce8107dc.js\"],\"component---src-templates-faq-article-faq-article-template-tsx\":[\"/component---src-templates-faq-article-faq-article-template-tsx-ca19ab59dfd54600c11a.js\"],\"component---src-templates-faq-page-faq-page-template-tsx\":[\"/component---src-templates-faq-page-faq-page-template-tsx-e925dd3bba7cf7ae6a89.js\"],\"component---src-templates-generic-page-generic-page-template-tsx\":[\"/component---src-templates-generic-page-generic-page-template-tsx-015b874d70f05338f021.js\"],\"component---src-templates-home-page-home-page-template-tsx\":[\"/component---src-templates-home-page-home-page-template-tsx-dc8d198e8f7025affa23.js\"],\"component---src-templates-news-landing-page-news-landing-page-template-tsx\":[\"/component---src-templates-news-landing-page-news-landing-page-template-tsx-9f4af8cb0843b740255d.js\"],\"component---src-templates-news-page-news-page-template-tsx\":[\"/component---src-templates-news-page-news-page-template-tsx-cbe690758c691a266976.js\"],\"component---src-templates-not-found-page-not-found-page-template-tsx\":[\"/component---src-templates-not-found-page-not-found-page-template-tsx-e2815f64be497083f209.js\"],\"component---src-templates-opportunity-page-opportunity-page-template-tsx\":[\"/component---src-templates-opportunity-page-opportunity-page-template-tsx-c3f926338ffe5eeba6c1.js\"],\"component---src-templates-policy-page-policy-page-template-tsx\":[\"/component---src-templates-policy-page-policy-page-template-tsx-abe09eee7ed4b1b3faec.js\"],\"component---src-templates-recipient-page-recipient-page-template-tsx\":[\"/component---src-templates-recipient-page-recipient-page-template-tsx-031e0b258fb61124b07c.js\"],\"component---src-templates-refer-friend-page-refer-friend-page-template-tsx\":[\"/component---src-templates-refer-friend-page-refer-friend-page-template-tsx-051a67a652fb460aa456.js\"],\"component---src-templates-wallet-page-wallet-page-template-tsx\":[\"/component---src-templates-wallet-page-wallet-page-template-tsx-0b20a9da956c240ce5b7.js\"]}</script><script src=\"/public-assets/polyfill-950e79a7f766021583b2.js\" nomodule=\"\"></script><script src=\"/public-assets/component---src-templates-country-page-country-page-template-tsx-85bab22498c0ce8107dc.js\" async=\"\"></script><script src=\"/public-assets/6a7d5f19827feed9982c88b641779dbc035b2d89-650013e8e57279d05a23.js\" async=\"\"></script><script src=\"/public-assets/commons-42de5170967bbd83ff73.js\" async=\"\"></script><script src=\"/public-assets/async-console-9a3d1e6eff858526995c.js\" async=\"\"></script><script src=\"/public-assets/app-c55821e2b64cf521da16.js\" async=\"\"></script><script src=\"/public-assets/framework-02199c1a07e7b1008966.js\" async=\"\"></script><script src=\"/public-assets/styles-c44c00d39926b7440e6a.js\" async=\"\"></script><script src=\"/public-assets/webpack-runtime-5f449ec32ee8d4880b0d.js\" async=\"\"></script><script src=\"/public-assets/adrum/adrum.js\"></script></body></html>'"
      ]
     },
     "metadata": {},
     "execution_count": 6
    }
   ],
   "source": [
    "\n",
    "\n",
    "# Testing Namaster Remittance\n",
    "\n",
    "import requests\n",
    "import bs4\n",
    "\n",
    "headers = {\n",
    "    'User-Agent': 'Mozilla/5.0 (Macintosh; Intel Mac OS X 10.12; rv:55.0) Gecko/20100101 Firefox/55.0',\n",
    "}\n",
    "\n",
    "# defining a use agent so the sript will not be blocked from executing by security headers\n",
    "siteNR='https://www.worldremit.com/en/nepal'\n",
    "\n",
    "\n",
    "resNR = requests.get(siteNR,headers=headers)\n",
    "resNR.text\n"
   ]
  },
  {
   "cell_type": "code",
   "execution_count": null,
   "metadata": {},
   "outputs": [],
   "source": []
  }
 ]
}