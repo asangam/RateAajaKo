{
 "metadata": {
  "language_info": {
   "codemirror_mode": {
    "name": "ipython",
    "version": 3
   },
   "file_extension": ".py",
   "mimetype": "text/x-python",
   "name": "python",
   "nbconvert_exporter": "python",
   "pygments_lexer": "ipython3",
   "version": "3.6.8"
  },
  "orig_nbformat": 2,
  "kernelspec": {
   "name": "python368jvsc74a57bd005ece30799c2dcdac4c13b3af20453da19de8df0d9a1de52cff7e0b6e1e82bdd",
   "display_name": "Python 3.6.8 64-bit"
  },
  "metadata": {
   "interpreter": {
    "hash": "05ece30799c2dcdac4c13b3af20453da19de8df0d9a1de52cff7e0b6e1e82bdd"
   }
  }
 },
 "nbformat": 4,
 "nbformat_minor": 2,
 "cells": [
  {
   "cell_type": "code",
   "execution_count": 1,
   "metadata": {},
   "outputs": [
    {
     "output_type": "stream",
     "name": "stdout",
     "text": [
      "Today's Rate:  94.00 Tue 20, Apr 2021 ,09:59:10\n"
     ]
    }
   ],
   "source": [
    "# THIS IS A PLAYGROUND FOR MY PY FILE\n",
    "# I LIKE TO PLAY FIRST IN THE JUPYTER NOTEBOOK HAHA\n",
    "\n",
    "import requests\n",
    "import bs4\n",
    "\n",
    "siteNK='https://www.nepalikaam.com'\n",
    "siteNR='https://www.namasteremittance.com.au'\n",
    "\n",
    "\n",
    "resNK = requests.get(siteNK)\n",
    "resNR = requests.get(siteNR)\n",
    "\n",
    "\n",
    "#type(res)\n",
    "\n",
    "resNK.text\n",
    "resNR.text\n",
    "\n",
    "soupNK = bs4.BeautifulSoup(resNK.text,'html.parser')\n",
    "soupNR = bs4.BeautifulSoup(resNR.text,'html.parser')\n",
    "\n",
    "\n",
    "#type(soup)\n",
    "\n",
    "dataNK = soupNK.select('h5')\n",
    "dataNK = soupNR.select('')\n",
    "\n",
    "# data = displays all the data within the h5\n",
    "\n",
    "unformatted = data[0].getText().lstrip().rstrip()\n",
    "\n",
    "spaceData = unformatted.replace(\"\\r\\n\",\"\").replace(\"as\",\"\").replace(\"of\",\"\").replace(\"(\",\"\").replace(\")\",\"\")\n",
    "\n",
    "finalRate = spaceData[0:20]\n",
    "\n",
    "day = spaceData[142:168]\n",
    "\n",
    "print(finalRate+\" \"+day)\n",
    "\n"
   ]
  },
  {
   "cell_type": "code",
   "execution_count": 17,
   "metadata": {},
   "outputs": [
    {
     "output_type": "stream",
     "name": "stdout",
     "text": [
      "Today's Rate:  94.00 Tue 20, Apr 2021 ,09:59:10 -> $10 Charge\n"
     ]
    }
   ],
   "source": [
    "import requests\n",
    "import bs4\n",
    "\n",
    "res = requests.get('https://www.nepalikaam.com')\n",
    "#type(res)\n",
    "\n",
    "res.text\n",
    "\n",
    "soup = bs4.BeautifulSoup(res.text,'html.parser')\n",
    "#type(soup)\n",
    "\n",
    "data = soup.select('h5')\n",
    "\n",
    "# data = displays all the data within the h5\n",
    "\n",
    "unformatted = data[0].getText().lstrip().rstrip()\n",
    "\n",
    "spaceData = unformatted.replace(\"\\r\\n\",\"\").replace(\"as\",\"\").replace(\"of\",\"\").replace(\"(\",\"\").replace(\")\",\"\")\n",
    "finalRate = spaceData[0:20]\n",
    "day = spaceData[142:168]\n",
    "\n",
    "print(finalRate+\" \"+day+\" -> $10 Charge\")"
   ]
  },
  {
   "cell_type": "code",
   "execution_count": 67,
   "metadata": {},
   "outputs": [
    {
     "output_type": "stream",
     "name": "stdout",
     "text": [
      "94\n"
     ]
    }
   ],
   "source": [
    "import requests\n",
    "import bs4\n",
    "\n",
    "siteNME='http://nepalmoneyexpress.com.au/'\n",
    "\n",
    "headers = {\n",
    "    'User-Agent': 'Mozilla/5.0 (Macintosh; Intel Mac OS X 10.12; rv:55.0) Gecko/20100101 Firefox/55.0',\n",
    "} # defining a user agent so the sript will not be blocked from executing by security headers\n",
    "\n",
    "\n",
    "\n",
    "resNME = requests.get(siteNME,headers=headers)\n",
    "\n",
    "\n",
    "#type(res)\n",
    "\n",
    "resNME.text\n",
    "soupNME = bs4.BeautifulSoup(resNME.text,'html.parser')\n",
    "\n",
    "\n",
    "#for tag in soupNME.find_all(True):\n",
    " #   print(tag.name)\n",
    "\n",
    "\n",
    "\n",
    "for rate in soupNME.find_all(\"home\"):\n",
    "    print(rate[\"exchange_rate\"])\n",
    "\n",
    "\n",
    "\n",
    "\n"
   ]
  },
  {
   "cell_type": "code",
   "execution_count": null,
   "metadata": {},
   "outputs": [],
   "source": []
  }
 ]
}